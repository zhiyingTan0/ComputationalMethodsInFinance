{
  "nbformat": 4,
  "nbformat_minor": 0,
  "metadata": {
    "colab": {
      "provenance": []
    },
    "kernelspec": {
      "name": "python3",
      "display_name": "Python 3"
    },
    "language_info": {
      "name": "python"
    }
  },
  "cells": [
    {
      "cell_type": "code",
      "execution_count": 36,
      "metadata": {
        "colab": {
          "base_uri": "https://localhost:8080/"
        },
        "id": "MeZKkQaxcTUn",
        "outputId": "0286e1f5-2ef7-4fd0-8eee-940488308b29"
      },
      "outputs": [
        {
          "output_type": "stream",
          "name": "stderr",
          "text": [
            "[*********************100%***********************]  1 of 1 completed\n",
            "[*********************100%***********************]  1 of 1 completed\n",
            "[*********************100%***********************]  1 of 1 completed\n",
            "[*********************100%***********************]  1 of 1 completed\n",
            "[*********************100%***********************]  1 of 1 completed\n",
            "[*********************100%***********************]  1 of 1 completed\n"
          ]
        }
      ],
      "source": [
        "import yfinance as yf\n",
        "import numpy as np\n",
        "import pandas as pd\n",
        "from datetime import datetime\n",
        "try:\n",
        "  import cplex\n",
        "except:\n",
        "  !pip install cplex\n",
        "  import cplex\n",
        "import math\n",
        "\n",
        "#get data\n",
        "tickers = ['AAPL', 'NVDA', 'TSLA', 'MSFT', 'AMZN', 'GLD']\n",
        "start_date = '2025-03-27'\n",
        "end_date = datetime.today().strftime('%Y-%m-%d')\n",
        "\n",
        "df = pd.DataFrame()\n",
        "for t in tickers:\n",
        "  df[t]=yf.download(t,start=start_date,end=end_date)['Close']\n"
      ]
    },
    {
      "cell_type": "code",
      "source": [
        "#calculate return covariance and mean\n",
        "df_return = df.pct_change().dropna()\n",
        "mu, Q = df_return.mean(), df_return.cov()\n",
        "print(mu)\n",
        "print(Q)"
      ],
      "metadata": {
        "colab": {
          "base_uri": "https://localhost:8080/"
        },
        "id": "WE_Uh5hJn-Wj",
        "outputId": "d043c773-0e28-4a50-abc7-8454ae24c073"
      },
      "execution_count": 37,
      "outputs": [
        {
          "output_type": "stream",
          "name": "stdout",
          "text": [
            "AAPL   -0.002134\n",
            "NVDA    0.001387\n",
            "TSLA    0.004491\n",
            "MSFT    0.000614\n",
            "AMZN   -0.002239\n",
            "GLD     0.004052\n",
            "dtype: float64\n",
            "          AAPL      NVDA      TSLA      MSFT      AMZN       GLD\n",
            "AAPL  0.002650  0.002650  0.003263  0.001426  0.002010  0.000291\n",
            "NVDA  0.002650  0.003470  0.003917  0.001736  0.002430  0.000128\n",
            "TSLA  0.003263  0.003917  0.005292  0.002087  0.002823  0.000158\n",
            "MSFT  0.001426  0.001736  0.002087  0.000982  0.001261  0.000096\n",
            "AMZN  0.002010  0.002430  0.002823  0.001261  0.001976  0.000056\n",
            "GLD   0.000291  0.000128  0.000158  0.000096  0.000056  0.000345\n"
          ]
        }
      ]
    },
    {
      "cell_type": "code",
      "source": [
        "def strat_max_Sharpe(mu, Q, r_rf):\n",
        "    cpx = cplex.Cplex()\n",
        "    cpx.objective.set_sense(cpx.objective.sense.minimize)\n",
        "\n",
        "    # Number of assets\n",
        "    n = len(mu)\n",
        "\n",
        "    # 1) Linear objective coefficients => 0 for all variables (only a quadratic term).\n",
        "    c = [0.0]*(n + 1)\n",
        "\n",
        "    # 2) Variable bounds lb => y_i >= 0, kappa >= 1e-6\n",
        "    # ub => y_i and kappa can be any number to infinity\n",
        "    lb = [0.0]*n + [1e-6]\n",
        "    ub = [cplex.infinity]*(n+1)\n",
        "\n",
        "    # --------------------------------------------------------------\n",
        "    # 3) Two constraints:\n",
        "    #   (a) sum_i((mu_i - r_rf/252) * y_i) = 1\n",
        "    #   (b) sum_i(y_i) - kappa = 0\n",
        "    # --------------------------------------------------------------\n",
        "    Atilde = [[[0,1], [mu[i]-r_rf / 252.0, 1.0]] for i in range(n)]\n",
        "\n",
        "    # The (n+1)-th variable is kappa, so row 0 -> 0.0, row 1 -> -1.0\n",
        "    Atilde.append([[0, 1], [0.0, -1.0]])\n",
        "\n",
        "    my_sense = \"EE\"         # two equality constraints\n",
        "    rhs_vals = [1.0, 0.0]   # right-hand sides\n",
        "\n",
        "    cpx.linear_constraints.add(rhs=rhs_vals, senses=my_sense)\n",
        "\n",
        "    var_names = [f\"y_{i}\" for i in range(n)] + [\"kappa\"]\n",
        "    cpx.variables.add(obj=c, lb=lb, ub=ub, columns=Atilde, names=var_names)\n",
        "\n",
        "    # --------------------------------------------------------------\n",
        "    # 4) Quadratic objective: y^T Q y\n",
        "    # --------------------------------------------------------------\n",
        "#     Qmat = []\n",
        "#     for i in range(n):\n",
        "#         Qmat.append([list(range(n)), Q[i]])  # row for y_i\n",
        "    Qmat =  [[list(range(n)), Q[i]] for i in range(n)]\n",
        "\n",
        "    # For kappa (the last var), we have zero row\n",
        "    Qmat.append([[n], [0.0]])\n",
        "\n",
        "    cpx.objective.set_quadratic(Qmat)\n",
        "\n",
        "    # --------------------------------------------------------------\n",
        "    # 5) Solve the model\n",
        "    # --------------------------------------------------------------\n",
        "    alg = cpx.parameters.lpmethod.values\n",
        "    cpx.parameters.qpmethod.set(alg.concurrent)\n",
        "    #cpx.set_results_stream(None)\n",
        "\n",
        "    cpx.solve()\n",
        "\n",
        "    # --------------------------------------------------------------\n",
        "    # 6) Retrieve the solution\n",
        "    # --------------------------------------------------------------\n",
        "    numcols = cpx.variables.get_num()  # should be n+1\n",
        "    x_opt = [cpx.solution.get_values(j) for j in range(numcols)]\n",
        "\n",
        "    y_opt = x_opt[:n]\n",
        "    kappa_opt = x_opt[n]\n",
        "\n",
        "    # Portfolio weights: w_i = y_i / kappa\n",
        "    w_ms = np.array([y_i / kappa_opt for y_i in y_opt])\n",
        "\n",
        "    # Calculate y^T Q y\n",
        "    #  => We'll do a straightforward summation\n",
        "    yQy = 0.0\n",
        "    for i in range(n):\n",
        "        for j in range(n):\n",
        "            yQy += y_opt[i] * Q[i][j] * y_opt[j]\n",
        "\n",
        "    # Maximum Sharpe ratio = 1 / sqrt(y^T Q y)\n",
        "    max_sharpe = 1.0 / math.sqrt(yQy)\n",
        "\n",
        "    return w_ms, max_sharpe"
      ],
      "metadata": {
        "id": "gbProQJIdSPd"
      },
      "execution_count": 38,
      "outputs": []
    },
    {
      "cell_type": "code",
      "source": [
        "strat_max_Sharpe(np.array(mu), np.array(Q), 0.0429/252)"
      ],
      "metadata": {
        "colab": {
          "base_uri": "https://localhost:8080/"
        },
        "id": "yZiIWCDJdGbC",
        "outputId": "eb175649-917d-4e9f-a823-2ceccde5baf2"
      },
      "execution_count": 39,
      "outputs": [
        {
          "output_type": "stream",
          "name": "stdout",
          "text": [
            "Version identifier: 22.1.2.0 | 2024-12-10 | f4cec290b\n",
            "CPXPARAM_Read_DataCheck                          1\n",
            "CPXPARAM_QPMethod                                6\n",
            "Parallel mode: deterministic, using up to 2 threads for concurrent optimization:\n",
            " * Starting dual Simplex on 1 thread...\n",
            " * Starting Barrier on 1 thread...\n",
            "Number of nonzeros in lower triangle of Q = 15\n",
            "Using Approximate Minimum Degree ordering\n",
            "Total time for automatic ordering = 0.00 sec. (0.00 ticks)\n",
            "Summary statistics for factor of Q:\n",
            "  Rows in Factor            = 6\n",
            "  Integer space required    = 6\n",
            "  Total non-zeros in factor = 21\n",
            "  Total FP ops to factor    = 91\n",
            "Tried aggregator 1 time.\n",
            "No QP presolve or aggregator reductions.\n",
            "Presolve time = 0.02 sec. (0.00 ticks)\n",
            "\n",
            "Iteration log . . .\n",
            "Iteration:     1    Objective     =             0.000000\n",
            "\n",
            "Dual simplex solved model.\n",
            "\n"
          ]
        },
        {
          "output_type": "execute_result",
          "data": {
            "text/plain": [
              "(array([0.        , 0.        , 0.04198558, 0.        , 0.        ,\n",
              "        0.95801442]),\n",
              " 0.2212659731785513)"
            ]
          },
          "metadata": {},
          "execution_count": 39
        }
      ]
    }
  ]
}